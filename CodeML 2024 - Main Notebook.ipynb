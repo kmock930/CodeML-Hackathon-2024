{
 "cells": [
  {
   "cell_type": "markdown",
   "id": "45d66d56",
   "metadata": {},
   "source": [
    "# Data"
   ]
  },
  {
   "cell_type": "markdown",
   "id": "5da51b1d",
   "metadata": {},
   "source": [
    "## Loading the Data"
   ]
  },
  {
   "cell_type": "code",
   "execution_count": null,
   "id": "b37fb2ba",
   "metadata": {},
   "outputs": [],
   "source": []
  },
  {
   "cell_type": "markdown",
   "id": "8291467a",
   "metadata": {},
   "source": [
    "## Data Cleansing"
   ]
  },
  {
   "cell_type": "code",
   "execution_count": null,
   "id": "f1ff9eea",
   "metadata": {},
   "outputs": [],
   "source": []
  },
  {
   "cell_type": "markdown",
   "id": "eaec44bf",
   "metadata": {},
   "source": [
    "## Data Preprocessing"
   ]
  },
  {
   "cell_type": "code",
   "execution_count": null,
   "id": "6ea1930d",
   "metadata": {},
   "outputs": [],
   "source": []
  },
  {
   "cell_type": "markdown",
   "id": "3f01bf22",
   "metadata": {},
   "source": [
    "## Visualizing the Data"
   ]
  },
  {
   "cell_type": "code",
   "execution_count": null,
   "id": "51947a37",
   "metadata": {},
   "outputs": [],
   "source": []
  },
  {
   "cell_type": "markdown",
   "id": "cb66983a",
   "metadata": {},
   "source": [
    "## Splitting the Datasets "
   ]
  },
  {
   "cell_type": "code",
   "execution_count": null,
   "id": "c202f489",
   "metadata": {},
   "outputs": [],
   "source": []
  },
  {
   "cell_type": "markdown",
   "id": "900b0ce3",
   "metadata": {},
   "source": [
    "# Machine Learning Modelling"
   ]
  },
  {
   "cell_type": "markdown",
   "id": "1c94c120",
   "metadata": {},
   "source": [
    "## Creating the Model"
   ]
  },
  {
   "cell_type": "code",
   "execution_count": null,
   "id": "502950e6",
   "metadata": {},
   "outputs": [],
   "source": [
    "device = \"cuda\" if torch.cuda.is_available() else \"cpu\"\n",
    "\n",
    "class FeedForwardNN(nn.Module): \n",
    "    def __init__(self, input_shape: int, hidden_units: int, output_shape: int) -> None:\n",
    "        super().__init__()  # Fixed super call\n",
    "\n",
    "        self.linear_stack = nn.Sequential(\n",
    "            nn.Linear(input_shape, hidden_units),\n",
    "            nn.ReLU(),\n",
    "            nn.Linear(hidden_units, hidden_units),\n",
    "            nn.ReLU(),\n",
    "            nn.Linear(hidden_units, output_shape),\n",
    "        )\n",
    "\n",
    "    def forward(self, x: torch.Tensor):\n",
    "        return self.linear_stack(x)\n",
    "\n",
    "model = FeedForwardNN(input_shape=3, hidden_units=128, output_shape=1).to(device)\n"
   ]
  },
  {
   "cell_type": "markdown",
   "id": "7a4ae974",
   "metadata": {},
   "source": [
    "## Fitting the Model with Training Data"
   ]
  },
  {
   "cell_type": "code",
   "execution_count": null,
   "id": "3e862b40",
   "metadata": {},
   "outputs": [],
   "source": []
  },
  {
   "cell_type": "markdown",
   "id": "0e244585",
   "metadata": {},
   "source": [
    "## Verify if Fitting is performed correctly"
   ]
  },
  {
   "cell_type": "code",
   "execution_count": null,
   "id": "ef15af25",
   "metadata": {},
   "outputs": [],
   "source": []
  },
  {
   "cell_type": "markdown",
   "id": "dfc770b0",
   "metadata": {},
   "source": [
    "# Perform Predictions with the Model"
   ]
  },
  {
   "cell_type": "code",
   "execution_count": null,
   "id": "c61164b6",
   "metadata": {},
   "outputs": [],
   "source": []
  },
  {
   "cell_type": "markdown",
   "id": "ceacde82",
   "metadata": {},
   "source": [
    "# Evaluate the Performance of the Model"
   ]
  },
  {
   "cell_type": "code",
   "execution_count": null,
   "id": "ca83b5e4",
   "metadata": {},
   "outputs": [],
   "source": []
  },
  {
   "cell_type": "markdown",
   "id": "404a0634",
   "metadata": {},
   "source": [
    "# Conclusion and Further Discussion"
   ]
  },
  {
   "cell_type": "code",
   "execution_count": null,
   "id": "6f9cea6b",
   "metadata": {},
   "outputs": [],
   "source": []
  }
 ],
 "metadata": {
  "kernelspec": {
   "display_name": "Python 3 (ipykernel)",
   "language": "python",
   "name": "python3"
  },
  "language_info": {
   "codemirror_mode": {
    "name": "ipython",
    "version": 3
   },
   "file_extension": ".py",
   "mimetype": "text/x-python",
   "name": "python",
   "nbconvert_exporter": "python",
   "pygments_lexer": "ipython3",
   "version": "3.9.12"
  }
 },
 "nbformat": 4,
 "nbformat_minor": 5
}

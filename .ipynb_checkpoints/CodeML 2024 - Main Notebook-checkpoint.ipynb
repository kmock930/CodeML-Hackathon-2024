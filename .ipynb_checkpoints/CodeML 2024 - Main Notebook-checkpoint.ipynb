{
 "cells": [
  {
   "cell_type": "markdown",
   "id": "0fe322f9",
   "metadata": {},
   "source": [
    "# Challenge: Latency Prediction (LatenceTech 🛜)"
   ]
  },
  {
   "cell_type": "markdown",
   "id": "31bd2fa8",
   "metadata": {},
   "source": [
    "# Installing Dependencies"
   ]
  },
  {
   "cell_type": "code",
   "execution_count": 98,
   "id": "1739fae1",
   "metadata": {},
   "outputs": [
    {
     "name": "stdout",
     "output_type": "stream",
     "text": [
      "Defaulting to user installation because normal site-packages is not writeable\n",
      "Requirement already satisfied: pandas in c:\\programdata\\anaconda3\\lib\\site-packages (1.4.2)\n",
      "Requirement already satisfied: python-dateutil>=2.8.1 in c:\\programdata\\anaconda3\\lib\\site-packages (from pandas) (2.8.2)\n",
      "Requirement already satisfied: numpy>=1.18.5 in c:\\users\\kelvi\\appdata\\roaming\\python\\python39\\site-packages (from pandas) (1.26.4)\n",
      "Requirement already satisfied: pytz>=2020.1 in c:\\programdata\\anaconda3\\lib\\site-packages (from pandas) (2021.3)\n",
      "Requirement already satisfied: six>=1.5 in c:\\programdata\\anaconda3\\lib\\site-packages (from python-dateutil>=2.8.1->pandas) (1.16.0)\n",
      "Note: you may need to restart the kernel to use updated packages.\n",
      "Defaulting to user installation because normal site-packages is not writeable\n",
      "Requirement already satisfied: numpy in c:\\users\\kelvi\\appdata\\roaming\\python\\python39\\site-packages (1.26.4)\n",
      "Note: you may need to restart the kernel to use updated packages.\n",
      "Defaulting to user installation because normal site-packages is not writeable\n",
      "Requirement already satisfied: matplotlib in c:\\programdata\\anaconda3\\lib\\site-packages (3.5.1)\n",
      "Requirement already satisfied: numpy>=1.17 in c:\\users\\kelvi\\appdata\\roaming\\python\\python39\\site-packages (from matplotlib) (1.26.4)\n",
      "Requirement already satisfied: python-dateutil>=2.7 in c:\\programdata\\anaconda3\\lib\\site-packages (from matplotlib) (2.8.2)\n",
      "Requirement already satisfied: pyparsing>=2.2.1 in c:\\programdata\\anaconda3\\lib\\site-packages (from matplotlib) (3.0.4)\n",
      "Requirement already satisfied: cycler>=0.10 in c:\\programdata\\anaconda3\\lib\\site-packages (from matplotlib) (0.11.0)\n",
      "Requirement already satisfied: fonttools>=4.22.0 in c:\\programdata\\anaconda3\\lib\\site-packages (from matplotlib) (4.25.0)\n",
      "Requirement already satisfied: pillow>=6.2.0 in c:\\programdata\\anaconda3\\lib\\site-packages (from matplotlib) (9.0.1)\n",
      "Requirement already satisfied: kiwisolver>=1.0.1 in c:\\programdata\\anaconda3\\lib\\site-packages (from matplotlib) (1.3.2)\n",
      "Requirement already satisfied: packaging>=20.0 in c:\\programdata\\anaconda3\\lib\\site-packages (from matplotlib) (21.3)\n",
      "Requirement already satisfied: six>=1.5 in c:\\programdata\\anaconda3\\lib\\site-packages (from python-dateutil>=2.7->matplotlib) (1.16.0)\n",
      "Note: you may need to restart the kernel to use updated packages.\n"
     ]
    }
   ],
   "source": [
    "%pip install pandas\n",
    "%pip install numpy\n",
    "%pip install matplotlib"
   ]
  },
  {
   "cell_type": "code",
   "execution_count": 99,
   "id": "7ed3ae09",
   "metadata": {},
   "outputs": [],
   "source": [
    "import pandas as pd;\n",
    "import numpy as np;\n",
    "import random;\n",
    "import matplotlib.pyplot as plt;"
   ]
  },
  {
   "cell_type": "markdown",
   "id": "5af13c16",
   "metadata": {},
   "source": [
    "# Data"
   ]
  },
  {
   "cell_type": "markdown",
   "id": "0890324c",
   "metadata": {},
   "source": [
    "## Loading the Data"
   ]
  },
  {
   "cell_type": "code",
   "execution_count": 100,
   "id": "f6ad6914",
   "metadata": {},
   "outputs": [
    {
     "name": "stdout",
     "output_type": "stream",
     "text": [
      "Feature: _time\n",
      "Feature: agentID\n",
      "Feature: Altitude\n",
      "Feature: Latitude\n",
      "Feature: Longitude\n",
      "Feature: http_result\n",
      "Feature: icmp_result\n",
      "Feature: tcp_result\n",
      "Feature: udp_result\n"
     ]
    },
    {
     "data": {
      "text/html": [
       "<div>\n",
       "<style scoped>\n",
       "    .dataframe tbody tr th:only-of-type {\n",
       "        vertical-align: middle;\n",
       "    }\n",
       "\n",
       "    .dataframe tbody tr th {\n",
       "        vertical-align: top;\n",
       "    }\n",
       "\n",
       "    .dataframe thead th {\n",
       "        text-align: right;\n",
       "    }\n",
       "</style>\n",
       "<table border=\"1\" class=\"dataframe\">\n",
       "  <thead>\n",
       "    <tr style=\"text-align: right;\">\n",
       "      <th></th>\n",
       "      <th>_time</th>\n",
       "      <th>agentID</th>\n",
       "      <th>Altitude</th>\n",
       "      <th>Latitude</th>\n",
       "      <th>Longitude</th>\n",
       "      <th>http_result</th>\n",
       "      <th>icmp_result</th>\n",
       "      <th>tcp_result</th>\n",
       "      <th>udp_result</th>\n",
       "    </tr>\n",
       "  </thead>\n",
       "  <tbody>\n",
       "    <tr>\n",
       "      <th>0</th>\n",
       "      <td>2024-09-20 17:19:05+00:00</td>\n",
       "      <td>752813491.0</td>\n",
       "      <td>20.292809</td>\n",
       "      <td>45.496175</td>\n",
       "      <td>-73.561853</td>\n",
       "      <td>29.991</td>\n",
       "      <td>49.161</td>\n",
       "      <td>30.106</td>\n",
       "      <td>58.090</td>\n",
       "    </tr>\n",
       "    <tr>\n",
       "      <th>1</th>\n",
       "      <td>2024-09-20 17:19:03+00:00</td>\n",
       "      <td>752813491.0</td>\n",
       "      <td>20.292809</td>\n",
       "      <td>45.496175</td>\n",
       "      <td>-73.561853</td>\n",
       "      <td>29.955</td>\n",
       "      <td>59.476</td>\n",
       "      <td>30.031</td>\n",
       "      <td>69.706</td>\n",
       "    </tr>\n",
       "    <tr>\n",
       "      <th>2</th>\n",
       "      <td>2024-09-20 17:19:01+00:00</td>\n",
       "      <td>752813491.0</td>\n",
       "      <td>20.292809</td>\n",
       "      <td>45.496175</td>\n",
       "      <td>-73.561853</td>\n",
       "      <td>33.209</td>\n",
       "      <td>31.992</td>\n",
       "      <td>29.947</td>\n",
       "      <td>42.514</td>\n",
       "    </tr>\n",
       "    <tr>\n",
       "      <th>3</th>\n",
       "      <td>2024-09-20 17:18:59+00:00</td>\n",
       "      <td>752813491.0</td>\n",
       "      <td>20.292809</td>\n",
       "      <td>45.496175</td>\n",
       "      <td>-73.561853</td>\n",
       "      <td>30.057</td>\n",
       "      <td>64.112</td>\n",
       "      <td>30.036</td>\n",
       "      <td>74.137</td>\n",
       "    </tr>\n",
       "    <tr>\n",
       "      <th>4</th>\n",
       "      <td>2024-09-20 17:18:57+00:00</td>\n",
       "      <td>752813491.0</td>\n",
       "      <td>20.292809</td>\n",
       "      <td>45.496175</td>\n",
       "      <td>-73.561853</td>\n",
       "      <td>39.228</td>\n",
       "      <td>43.609</td>\n",
       "      <td>30.135</td>\n",
       "      <td>53.984</td>\n",
       "    </tr>\n",
       "    <tr>\n",
       "      <th>...</th>\n",
       "      <td>...</td>\n",
       "      <td>...</td>\n",
       "      <td>...</td>\n",
       "      <td>...</td>\n",
       "      <td>...</td>\n",
       "      <td>...</td>\n",
       "      <td>...</td>\n",
       "      <td>...</td>\n",
       "      <td>...</td>\n",
       "    </tr>\n",
       "    <tr>\n",
       "      <th>2593</th>\n",
       "      <td>NaN</td>\n",
       "      <td>NaN</td>\n",
       "      <td>NaN</td>\n",
       "      <td>NaN</td>\n",
       "      <td>NaN</td>\n",
       "      <td>NaN</td>\n",
       "      <td>NaN</td>\n",
       "      <td>NaN</td>\n",
       "      <td>NaN</td>\n",
       "    </tr>\n",
       "    <tr>\n",
       "      <th>2594</th>\n",
       "      <td>NaN</td>\n",
       "      <td>NaN</td>\n",
       "      <td>NaN</td>\n",
       "      <td>NaN</td>\n",
       "      <td>NaN</td>\n",
       "      <td>NaN</td>\n",
       "      <td>NaN</td>\n",
       "      <td>NaN</td>\n",
       "      <td>NaN</td>\n",
       "    </tr>\n",
       "    <tr>\n",
       "      <th>2595</th>\n",
       "      <td>NaN</td>\n",
       "      <td>NaN</td>\n",
       "      <td>NaN</td>\n",
       "      <td>NaN</td>\n",
       "      <td>NaN</td>\n",
       "      <td>NaN</td>\n",
       "      <td>NaN</td>\n",
       "      <td>NaN</td>\n",
       "      <td>NaN</td>\n",
       "    </tr>\n",
       "    <tr>\n",
       "      <th>2596</th>\n",
       "      <td>NaN</td>\n",
       "      <td>NaN</td>\n",
       "      <td>NaN</td>\n",
       "      <td>NaN</td>\n",
       "      <td>NaN</td>\n",
       "      <td>NaN</td>\n",
       "      <td>NaN</td>\n",
       "      <td>NaN</td>\n",
       "      <td>NaN</td>\n",
       "    </tr>\n",
       "    <tr>\n",
       "      <th>2597</th>\n",
       "      <td>NaN</td>\n",
       "      <td>NaN</td>\n",
       "      <td>NaN</td>\n",
       "      <td>NaN</td>\n",
       "      <td>NaN</td>\n",
       "      <td>NaN</td>\n",
       "      <td>NaN</td>\n",
       "      <td>NaN</td>\n",
       "      <td>NaN</td>\n",
       "    </tr>\n",
       "  </tbody>\n",
       "</table>\n",
       "<p>2598 rows × 9 columns</p>\n",
       "</div>"
      ],
      "text/plain": [
       "                          _time      agentID   Altitude   Latitude  Longitude  \\\n",
       "0     2024-09-20 17:19:05+00:00  752813491.0  20.292809  45.496175 -73.561853   \n",
       "1     2024-09-20 17:19:03+00:00  752813491.0  20.292809  45.496175 -73.561853   \n",
       "2     2024-09-20 17:19:01+00:00  752813491.0  20.292809  45.496175 -73.561853   \n",
       "3     2024-09-20 17:18:59+00:00  752813491.0  20.292809  45.496175 -73.561853   \n",
       "4     2024-09-20 17:18:57+00:00  752813491.0  20.292809  45.496175 -73.561853   \n",
       "...                         ...          ...        ...        ...        ...   \n",
       "2593                        NaN          NaN        NaN        NaN        NaN   \n",
       "2594                        NaN          NaN        NaN        NaN        NaN   \n",
       "2595                        NaN          NaN        NaN        NaN        NaN   \n",
       "2596                        NaN          NaN        NaN        NaN        NaN   \n",
       "2597                        NaN          NaN        NaN        NaN        NaN   \n",
       "\n",
       "      http_result  icmp_result  tcp_result  udp_result  \n",
       "0          29.991       49.161      30.106      58.090  \n",
       "1          29.955       59.476      30.031      69.706  \n",
       "2          33.209       31.992      29.947      42.514  \n",
       "3          30.057       64.112      30.036      74.137  \n",
       "4          39.228       43.609      30.135      53.984  \n",
       "...           ...          ...         ...         ...  \n",
       "2593          NaN          NaN         NaN         NaN  \n",
       "2594          NaN          NaN         NaN         NaN  \n",
       "2595          NaN          NaN         NaN         NaN  \n",
       "2596          NaN          NaN         NaN         NaN  \n",
       "2597          NaN          NaN         NaN         NaN  \n",
       "\n",
       "[2598 rows x 9 columns]"
      ]
     },
     "execution_count": 100,
     "metadata": {},
     "output_type": "execute_result"
    }
   ],
   "source": [
    "df_original = pd.read_csv('dataset/participant_data.csv');\n",
    "column_names = df_original.columns;\n",
    "for col in column_names: print(\"Feature: \" + col);\n",
    "df_original"
   ]
  },
  {
   "cell_type": "code",
   "execution_count": 101,
   "id": "bafb0827",
   "metadata": {},
   "outputs": [
    {
     "name": "stdout",
     "output_type": "stream",
     "text": [
      "Type of Array with original data: <class 'numpy.ndarray'>\n",
      "Type of a record in the original data: <class 'numpy.ndarray'>\n",
      "Number of records in the original dataset: 2598\n",
      "Number of features in a record: 9\n",
      "Dimensionality of a record: 1\n",
      "Dimensionality of the entire data array: 2\n",
      "Shape of the Array: (2598, 9)\n",
      "Shape of a record: (9,)\n"
     ]
    }
   ],
   "source": [
    "origData = df_original.to_numpy();\n",
    "randSample = origData[random.randint(0,len(origData)-1)]; # for inspection\n",
    "\n",
    "print(\"Type of Array with original data: \" + str(type(origData)));\n",
    "print(\"Type of a record in the original data: \" + str(type(randSample)));\n",
    "print(\"Number of records in the original dataset: \" + str(len(origData)));\n",
    "print(\"Number of features in a record: \" + str(randSample.size));\n",
    "print(\"Dimensionality of a record: \" + str(randSample.ndim));\n",
    "print(\"Dimensionality of the entire data array: \" + str(origData.ndim));\n",
    "print(\"Shape of the Array: \" + str(origData.shape));\n",
    "print(\"Shape of a record: \" + str(randSample.shape));"
   ]
  },
  {
   "cell_type": "markdown",
   "id": "eaceaa03",
   "metadata": {},
   "source": [
    "## Data Cleansing"
   ]
  },
  {
   "cell_type": "markdown",
   "id": "7599fac9",
   "metadata": {},
   "source": [
    "In `Data Preprocessing.ipynb`, we already cleansed the data with 2 different approaches. Now, we import those csv files in a Pandas table. "
   ]
  },
  {
   "cell_type": "markdown",
   "id": "e38a9c1a",
   "metadata": {},
   "source": [
    "### Approach 1: Cleaned using the \"Mean\" to replace NaN or Empty values"
   ]
  },
  {
   "cell_type": "code",
   "execution_count": 102,
   "id": "02c035a8",
   "metadata": {},
   "outputs": [
    {
     "name": "stdout",
     "output_type": "stream",
     "text": [
      "Feature: _time\n",
      "Feature: http_result\n",
      "Feature: icmp_result\n",
      "Feature: tcp_result\n",
      "Feature: udp_result\n"
     ]
    },
    {
     "data": {
      "text/html": [
       "<div>\n",
       "<style scoped>\n",
       "    .dataframe tbody tr th:only-of-type {\n",
       "        vertical-align: middle;\n",
       "    }\n",
       "\n",
       "    .dataframe tbody tr th {\n",
       "        vertical-align: top;\n",
       "    }\n",
       "\n",
       "    .dataframe thead th {\n",
       "        text-align: right;\n",
       "    }\n",
       "</style>\n",
       "<table border=\"1\" class=\"dataframe\">\n",
       "  <thead>\n",
       "    <tr style=\"text-align: right;\">\n",
       "      <th></th>\n",
       "      <th>_time</th>\n",
       "      <th>http_result</th>\n",
       "      <th>icmp_result</th>\n",
       "      <th>tcp_result</th>\n",
       "      <th>udp_result</th>\n",
       "    </tr>\n",
       "  </thead>\n",
       "  <tbody>\n",
       "    <tr>\n",
       "      <th>0</th>\n",
       "      <td>2024-09-20 17:19:03+00:00</td>\n",
       "      <td>29.955</td>\n",
       "      <td>59.476</td>\n",
       "      <td>30.031</td>\n",
       "      <td>69.706</td>\n",
       "    </tr>\n",
       "    <tr>\n",
       "      <th>1</th>\n",
       "      <td>2024-09-20 17:19:01+00:00</td>\n",
       "      <td>33.209</td>\n",
       "      <td>31.992</td>\n",
       "      <td>29.947</td>\n",
       "      <td>42.514</td>\n",
       "    </tr>\n",
       "    <tr>\n",
       "      <th>2</th>\n",
       "      <td>2024-09-20 17:18:59+00:00</td>\n",
       "      <td>30.057</td>\n",
       "      <td>64.112</td>\n",
       "      <td>30.036</td>\n",
       "      <td>74.137</td>\n",
       "    </tr>\n",
       "    <tr>\n",
       "      <th>3</th>\n",
       "      <td>2024-09-20 17:18:57+00:00</td>\n",
       "      <td>39.228</td>\n",
       "      <td>43.609</td>\n",
       "      <td>30.135</td>\n",
       "      <td>53.984</td>\n",
       "    </tr>\n",
       "    <tr>\n",
       "      <th>4</th>\n",
       "      <td>2024-09-20 17:18:55+00:00</td>\n",
       "      <td>34.133</td>\n",
       "      <td>35.945</td>\n",
       "      <td>30.996</td>\n",
       "      <td>44.054</td>\n",
       "    </tr>\n",
       "    <tr>\n",
       "      <th>...</th>\n",
       "      <td>...</td>\n",
       "      <td>...</td>\n",
       "      <td>...</td>\n",
       "      <td>...</td>\n",
       "      <td>...</td>\n",
       "    </tr>\n",
       "    <tr>\n",
       "      <th>1929</th>\n",
       "      <td>2024-09-16 17:13:27+00:00</td>\n",
       "      <td>12.473</td>\n",
       "      <td>11.588</td>\n",
       "      <td>12.961</td>\n",
       "      <td>14.024</td>\n",
       "    </tr>\n",
       "    <tr>\n",
       "      <th>1930</th>\n",
       "      <td>2024-09-16 17:13:25+00:00</td>\n",
       "      <td>22.238</td>\n",
       "      <td>12.144</td>\n",
       "      <td>12.141</td>\n",
       "      <td>20.624</td>\n",
       "    </tr>\n",
       "    <tr>\n",
       "      <th>1931</th>\n",
       "      <td>2024-09-16 17:13:23+00:00</td>\n",
       "      <td>14.019</td>\n",
       "      <td>17.161</td>\n",
       "      <td>14.217</td>\n",
       "      <td>24.523</td>\n",
       "    </tr>\n",
       "    <tr>\n",
       "      <th>1932</th>\n",
       "      <td>2024-09-16 17:13:21+00:00</td>\n",
       "      <td>11.645</td>\n",
       "      <td>12.584</td>\n",
       "      <td>13.018</td>\n",
       "      <td>17.155</td>\n",
       "    </tr>\n",
       "    <tr>\n",
       "      <th>1933</th>\n",
       "      <td>2024-09-16 17:13:19+00:00</td>\n",
       "      <td>13.619</td>\n",
       "      <td>21.588</td>\n",
       "      <td>13.488</td>\n",
       "      <td>21.570</td>\n",
       "    </tr>\n",
       "  </tbody>\n",
       "</table>\n",
       "<p>1934 rows × 5 columns</p>\n",
       "</div>"
      ],
      "text/plain": [
       "                          _time  http_result  icmp_result  tcp_result  \\\n",
       "0     2024-09-20 17:19:03+00:00       29.955       59.476      30.031   \n",
       "1     2024-09-20 17:19:01+00:00       33.209       31.992      29.947   \n",
       "2     2024-09-20 17:18:59+00:00       30.057       64.112      30.036   \n",
       "3     2024-09-20 17:18:57+00:00       39.228       43.609      30.135   \n",
       "4     2024-09-20 17:18:55+00:00       34.133       35.945      30.996   \n",
       "...                         ...          ...          ...         ...   \n",
       "1929  2024-09-16 17:13:27+00:00       12.473       11.588      12.961   \n",
       "1930  2024-09-16 17:13:25+00:00       22.238       12.144      12.141   \n",
       "1931  2024-09-16 17:13:23+00:00       14.019       17.161      14.217   \n",
       "1932  2024-09-16 17:13:21+00:00       11.645       12.584      13.018   \n",
       "1933  2024-09-16 17:13:19+00:00       13.619       21.588      13.488   \n",
       "\n",
       "      udp_result  \n",
       "0         69.706  \n",
       "1         42.514  \n",
       "2         74.137  \n",
       "3         53.984  \n",
       "4         44.054  \n",
       "...          ...  \n",
       "1929      14.024  \n",
       "1930      20.624  \n",
       "1931      24.523  \n",
       "1932      17.155  \n",
       "1933      21.570  \n",
       "\n",
       "[1934 rows x 5 columns]"
      ]
     },
     "execution_count": 102,
     "metadata": {},
     "output_type": "execute_result"
    }
   ],
   "source": [
    "df_cleaned_mean = pd.read_csv('dataset/participant_data_cleaned_mean.csv');\n",
    "column_names = df_cleaned_mean.columns;\n",
    "for col in column_names: print(\"Feature: \" + col);\n",
    "df_cleaned_mean"
   ]
  },
  {
   "cell_type": "markdown",
   "id": "af97d331",
   "metadata": {},
   "source": [
    "Check if there're still NaN / Empty cells"
   ]
  },
  {
   "cell_type": "code",
   "execution_count": 103,
   "id": "735c66cc",
   "metadata": {},
   "outputs": [
    {
     "data": {
      "text/plain": [
       "_time          False\n",
       "http_result    False\n",
       "icmp_result    False\n",
       "tcp_result     False\n",
       "udp_result     False\n",
       "dtype: bool"
      ]
     },
     "execution_count": 103,
     "metadata": {},
     "output_type": "execute_result"
    }
   ],
   "source": [
    "df_cleaned_mean.isna().any()"
   ]
  },
  {
   "cell_type": "markdown",
   "id": "cfad51cd",
   "metadata": {},
   "source": [
    "### Approach 2: Cleaned using the \"Median\" to replace NaN or Empty values"
   ]
  },
  {
   "cell_type": "code",
   "execution_count": 104,
   "id": "ed17f426",
   "metadata": {},
   "outputs": [
    {
     "name": "stdout",
     "output_type": "stream",
     "text": [
      "Feature: _time\n",
      "Feature: http_result\n",
      "Feature: icmp_result\n",
      "Feature: tcp_result\n",
      "Feature: udp_result\n"
     ]
    },
    {
     "data": {
      "text/html": [
       "<div>\n",
       "<style scoped>\n",
       "    .dataframe tbody tr th:only-of-type {\n",
       "        vertical-align: middle;\n",
       "    }\n",
       "\n",
       "    .dataframe tbody tr th {\n",
       "        vertical-align: top;\n",
       "    }\n",
       "\n",
       "    .dataframe thead th {\n",
       "        text-align: right;\n",
       "    }\n",
       "</style>\n",
       "<table border=\"1\" class=\"dataframe\">\n",
       "  <thead>\n",
       "    <tr style=\"text-align: right;\">\n",
       "      <th></th>\n",
       "      <th>_time</th>\n",
       "      <th>http_result</th>\n",
       "      <th>icmp_result</th>\n",
       "      <th>tcp_result</th>\n",
       "      <th>udp_result</th>\n",
       "    </tr>\n",
       "  </thead>\n",
       "  <tbody>\n",
       "    <tr>\n",
       "      <th>0</th>\n",
       "      <td>2024-09-20 17:19:03+00:00</td>\n",
       "      <td>29.955</td>\n",
       "      <td>59.476</td>\n",
       "      <td>30.031</td>\n",
       "      <td>69.706</td>\n",
       "    </tr>\n",
       "    <tr>\n",
       "      <th>1</th>\n",
       "      <td>2024-09-20 17:19:01+00:00</td>\n",
       "      <td>33.209</td>\n",
       "      <td>31.992</td>\n",
       "      <td>29.947</td>\n",
       "      <td>42.514</td>\n",
       "    </tr>\n",
       "    <tr>\n",
       "      <th>2</th>\n",
       "      <td>2024-09-20 17:18:59+00:00</td>\n",
       "      <td>30.057</td>\n",
       "      <td>64.112</td>\n",
       "      <td>30.036</td>\n",
       "      <td>74.137</td>\n",
       "    </tr>\n",
       "    <tr>\n",
       "      <th>3</th>\n",
       "      <td>2024-09-20 17:18:57+00:00</td>\n",
       "      <td>39.228</td>\n",
       "      <td>43.609</td>\n",
       "      <td>30.135</td>\n",
       "      <td>53.984</td>\n",
       "    </tr>\n",
       "    <tr>\n",
       "      <th>4</th>\n",
       "      <td>2024-09-20 17:18:55+00:00</td>\n",
       "      <td>34.133</td>\n",
       "      <td>35.945</td>\n",
       "      <td>30.996</td>\n",
       "      <td>44.054</td>\n",
       "    </tr>\n",
       "    <tr>\n",
       "      <th>...</th>\n",
       "      <td>...</td>\n",
       "      <td>...</td>\n",
       "      <td>...</td>\n",
       "      <td>...</td>\n",
       "      <td>...</td>\n",
       "    </tr>\n",
       "    <tr>\n",
       "      <th>1929</th>\n",
       "      <td>2024-09-16 17:13:27+00:00</td>\n",
       "      <td>12.473</td>\n",
       "      <td>11.588</td>\n",
       "      <td>12.961</td>\n",
       "      <td>14.024</td>\n",
       "    </tr>\n",
       "    <tr>\n",
       "      <th>1930</th>\n",
       "      <td>2024-09-16 17:13:25+00:00</td>\n",
       "      <td>22.238</td>\n",
       "      <td>12.144</td>\n",
       "      <td>12.141</td>\n",
       "      <td>20.624</td>\n",
       "    </tr>\n",
       "    <tr>\n",
       "      <th>1931</th>\n",
       "      <td>2024-09-16 17:13:23+00:00</td>\n",
       "      <td>14.019</td>\n",
       "      <td>17.161</td>\n",
       "      <td>14.217</td>\n",
       "      <td>24.523</td>\n",
       "    </tr>\n",
       "    <tr>\n",
       "      <th>1932</th>\n",
       "      <td>2024-09-16 17:13:21+00:00</td>\n",
       "      <td>11.645</td>\n",
       "      <td>12.584</td>\n",
       "      <td>13.018</td>\n",
       "      <td>17.155</td>\n",
       "    </tr>\n",
       "    <tr>\n",
       "      <th>1933</th>\n",
       "      <td>2024-09-16 17:13:19+00:00</td>\n",
       "      <td>13.619</td>\n",
       "      <td>21.588</td>\n",
       "      <td>13.488</td>\n",
       "      <td>21.570</td>\n",
       "    </tr>\n",
       "  </tbody>\n",
       "</table>\n",
       "<p>1934 rows × 5 columns</p>\n",
       "</div>"
      ],
      "text/plain": [
       "                          _time  http_result  icmp_result  tcp_result  \\\n",
       "0     2024-09-20 17:19:03+00:00       29.955       59.476      30.031   \n",
       "1     2024-09-20 17:19:01+00:00       33.209       31.992      29.947   \n",
       "2     2024-09-20 17:18:59+00:00       30.057       64.112      30.036   \n",
       "3     2024-09-20 17:18:57+00:00       39.228       43.609      30.135   \n",
       "4     2024-09-20 17:18:55+00:00       34.133       35.945      30.996   \n",
       "...                         ...          ...          ...         ...   \n",
       "1929  2024-09-16 17:13:27+00:00       12.473       11.588      12.961   \n",
       "1930  2024-09-16 17:13:25+00:00       22.238       12.144      12.141   \n",
       "1931  2024-09-16 17:13:23+00:00       14.019       17.161      14.217   \n",
       "1932  2024-09-16 17:13:21+00:00       11.645       12.584      13.018   \n",
       "1933  2024-09-16 17:13:19+00:00       13.619       21.588      13.488   \n",
       "\n",
       "      udp_result  \n",
       "0         69.706  \n",
       "1         42.514  \n",
       "2         74.137  \n",
       "3         53.984  \n",
       "4         44.054  \n",
       "...          ...  \n",
       "1929      14.024  \n",
       "1930      20.624  \n",
       "1931      24.523  \n",
       "1932      17.155  \n",
       "1933      21.570  \n",
       "\n",
       "[1934 rows x 5 columns]"
      ]
     },
     "execution_count": 104,
     "metadata": {},
     "output_type": "execute_result"
    }
   ],
   "source": [
    "df_cleaned_median = pd.read_csv('dataset/participant_data_cleaned_median.csv');\n",
    "column_names = df_cleaned_median.columns;\n",
    "for col in column_names: print(\"Feature: \" + col);\n",
    "df_cleaned_median"
   ]
  },
  {
   "cell_type": "markdown",
   "id": "4e777bbd",
   "metadata": {},
   "source": [
    "Check if there're still NaN / Empty cells"
   ]
  },
  {
   "cell_type": "code",
   "execution_count": 105,
   "id": "f2544aeb",
   "metadata": {},
   "outputs": [
    {
     "data": {
      "text/plain": [
       "_time          False\n",
       "http_result    False\n",
       "icmp_result    False\n",
       "tcp_result     False\n",
       "udp_result     False\n",
       "dtype: bool"
      ]
     },
     "execution_count": 105,
     "metadata": {},
     "output_type": "execute_result"
    }
   ],
   "source": [
    "df_cleaned_median.isna().any()"
   ]
  },
  {
   "cell_type": "markdown",
   "id": "155de80b",
   "metadata": {},
   "source": [
    "### Intuition: Finding if those 2 approaches exported different data or exact same data"
   ]
  },
  {
   "cell_type": "code",
   "execution_count": 106,
   "id": "d8034573",
   "metadata": {},
   "outputs": [
    {
     "data": {
      "text/plain": [
       "array([False,  True])"
      ]
     },
     "execution_count": 106,
     "metadata": {},
     "output_type": "execute_result"
    }
   ],
   "source": [
    "# By comparing the values between \"Mean\" approach and \"Median\" approach\n",
    "# We try to see if there're False values = inconsistencies\n",
    "np.unique((df_cleaned_mean == df_cleaned_median).to_numpy())"
   ]
  },
  {
   "cell_type": "markdown",
   "id": "e50d9f21",
   "metadata": {},
   "source": [
    "Hence, we know that both approaches exported different data (i.e., not exactly the same), based on the original dataset. "
   ]
  },
  {
   "cell_type": "markdown",
   "id": "9a46c45a",
   "metadata": {},
   "source": [
    "## Visualizing the Data"
   ]
  },
  {
   "cell_type": "markdown",
   "id": "ac42ea52",
   "metadata": {},
   "source": [
    "### Data that was cleansed with the mean to replace empty values"
   ]
  },
  {
   "cell_type": "code",
   "execution_count": 107,
   "id": "3c0ba5a1",
   "metadata": {},
   "outputs": [],
   "source": [
    "# convert the type of value in _time column from string to datetime (for plotting)\n",
    "df_cleaned_mean['_time'] = pd.to_datetime(df_cleaned_mean['_time'])"
   ]
  },
  {
   "cell_type": "code",
   "execution_count": 108,
   "id": "d3b9640a",
   "metadata": {},
   "outputs": [
    {
     "data": {
      "image/png": "[encoded data removed]",
      "text/plain": [
       "<Figure size 432x288 with 1 Axes>"
      ]
     },
     "metadata": {
      "needs_background": "light"
     },
     "output_type": "display_data"
    }
   ],
   "source": [
    "df_cleaned_mean.plot(x = '_time');\n",
    "plt.title('Latency over Time (Data Cleansed with Mean)');\n",
    "plt.xlabel('Timestamp')\n",
    "plt.ylabel('Latency')\n",
    "plt.show()"
   ]
  },
  {
   "cell_type": "markdown",
   "id": "d063b439",
   "metadata": {},
   "source": [
    "### Data that was cleansed with the median to replace empty values"
   ]
  },
  {
   "cell_type": "code",
   "execution_count": 109,
   "id": "68394626",
   "metadata": {},
   "outputs": [],
   "source": [
    "# convert the type of value in _time column from string to datetime (for plotting)\n",
    "df_cleaned_median['_time'] = pd.to_datetime(df_cleaned_median['_time'])"
   ]
  },
  {
   "cell_type": "code",
   "execution_count": 110,
   "id": "977e026e",
   "metadata": {},
   "outputs": [
    {
     "data": {
      "image/png": "[encoded data removed]",
      "text/plain": [
       "<Figure size 432x288 with 1 Axes>"
      ]
     },
     "metadata": {
      "needs_background": "light"
     },
     "output_type": "display_data"
    }
   ],
   "source": [
    "df_cleaned_median.plot(x = '_time');\n",
    "plt.title('Latency over Time (Data Cleansed with Median)');\n",
    "plt.xlabel('Timestamp')\n",
    "plt.ylabel('Latency')\n",
    "plt.show()"
   ]
  },
  {
   "cell_type": "markdown",
   "id": "8796221f",
   "metadata": {},
   "source": [
    "# Machine Learning Modelling"
   ]
  },
  {
   "cell_type": "markdown",
   "id": "36fab9a7",
   "metadata": {},
   "source": [
    "## Creating the Model"
   ]
  },
  {
   "cell_type": "code",
   "execution_count": null,
   "id": "8ddb8fec",
   "metadata": {},
   "outputs": [],
   "source": [
    "# Instantiate and move the model to the correct device\n",
    "model = FeedForwardNN(input_shape=3, hidden_units=128, output_shape=1).to(device)\n"
   ]
  },
  {
   "cell_type": "markdown",
   "id": "3644faf4",
   "metadata": {},
   "source": [
    "## Fitting the Model with Training Data"
   ]
  },
  {
   "cell_type": "code",
   "execution_count": null,
   "id": "780ea05a",
   "metadata": {},
   "outputs": [],
   "source": []
  },
  {
   "cell_type": "markdown",
   "id": "bdd091ba",
   "metadata": {},
   "source": [
    "## Verify if Fitting is performed correctly"
   ]
  },
  {
   "cell_type": "code",
   "execution_count": null,
   "id": "d063c5bc",
   "metadata": {},
   "outputs": [],
   "source": []
  },
  {
   "cell_type": "markdown",
   "id": "6da2f136",
   "metadata": {},
   "source": [
    "# Perform Predictions with the Model"
   ]
  },
  {
   "cell_type": "code",
   "execution_count": null,
   "id": "0080e0e1",
   "metadata": {},
   "outputs": [],
   "source": []
  },
  {
   "cell_type": "markdown",
   "id": "b0b75946",
   "metadata": {},
   "source": [
    "# Evaluate the Performance of the Model"
   ]
  },
  {
   "cell_type": "code",
   "execution_count": null,
   "id": "e99117e6",
   "metadata": {},
   "outputs": [],
   "source": []
  },
  {
   "cell_type": "markdown",
   "id": "f52cac74",
   "metadata": {},
   "source": [
    "# Conclusion and Further Discussion"
   ]
  },
  {
   "cell_type": "code",
   "execution_count": null,
   "id": "2e1999a8",
   "metadata": {},
   "outputs": [],
   "source": []
  }
 ],
 "metadata": {
  "kernelspec": {
   "display_name": "Python 3 (ipykernel)",
   "language": "python",
   "name": "python3"
  },
  "language_info": {
   "codemirror_mode": {
    "name": "ipython",
    "version": 3
   },
   "file_extension": ".py",
   "mimetype": "text/x-python",
   "name": "python",
   "nbconvert_exporter": "python",
   "pygments_lexer": "ipython3",
   "version": "3.9.12"
  }
 },
 "nbformat": 4,
 "nbformat_minor": 5
}

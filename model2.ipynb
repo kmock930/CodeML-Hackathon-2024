{
 "cells": [
  {
   "cell_type": "code",
   "execution_count": 49,
   "metadata": {},
   "outputs": [],
   "source": [
    "import numpy as np\n",
    "import pandas as pd\n",
    "import matplotlib as plt"
   ]
  },
  {
   "cell_type": "code",
   "execution_count": null,
   "metadata": {},
   "outputs": [],
   "source": [
    "df = pd.read_csv('data/participant_data.csv')\n",
    "df = df.drop(df.index[-1]) # not a record\n",
    "\n",
    "df['_time'] = pd.to_datetime(df['_time'])\n",
    "\n",
    "df"
   ]
  },
  {
   "cell_type": "code",
   "execution_count": 51,
   "metadata": {},
   "outputs": [],
   "source": [
    "# From web\n",
    "def create_window(target, feature, window=1, offset=0):\n",
    "    feature_new, target_new = [], []\n",
    "    feature_np = feature.to_numpy()\n",
    "    target_np = target.to_numpy()\n",
    "    for i in range(window, target.shape[0] - offset):\n",
    "        feature_list = feature_np[i - window:i]\n",
    "        feature_new.append(feature_list.reshape(window, feature_np.shape[1]))\n",
    "        target_new.append(target_np[i+offset].reshape(1))\n",
    "    return np.array(feature_new), np.array(target_new)"
   ]
  },
  {
   "cell_type": "code",
   "execution_count": null,
   "metadata": {},
   "outputs": [],
   "source": [
    "from sklearn.preprocessing import MinMaxScaler\n",
    "\n",
    "# Scale all except date\n",
    "scaler = MinMaxScaler()\n",
    "df_scaled = scaler.fit_transform(df.drop(columns='_time'))\n",
    "df_scaled = pd.DataFrame(df_scaled, columns=df.drop(columns='_time').columns)\n",
    "\n",
    "window = 30\n",
    "feature_columns = ['http_result', 'icmp_result', 'tcp_result', 'udp_result']\n",
    "\n",
    "feature, target = create_window(df_scaled['http_result'],df_scaled[feature_columns], window=window)\n",
    "print(feature[0])\n",
    "print(target[0])\n",
    "print(df_scaled.head(12))\n",
    "\n",
    "df.head"
   ]
  },
  {
   "cell_type": "code",
   "execution_count": null,
   "metadata": {},
   "outputs": [],
   "source": [
    "from sklearn.model_selection import train_test_split\n",
    "\n",
    "x_train, x_test, y_train, y_test = train_test_split(feature, target, test_size=0.2)\n",
    "target"
   ]
  },
  {
   "cell_type": "code",
   "execution_count": null,
   "metadata": {},
   "outputs": [],
   "source": [
    "import tensorflow as tf\n",
    "from keras import layers\n",
    "\n",
    "print(x_train.shape)\n",
    "\n",
    "model = tf.keras.Sequential([\n",
    "    layers.LSTM(64, input_shape=[x_train.shape[1], x_train.shape[2]]),\n",
    "    layers.Dense(1)])\n",
    "\n",
    "model.compile(\n",
    "    # optimizer=tf.keras.optimizers.RMSprop(0.0001),\n",
    "    optimizer='RMSProp', \n",
    "    loss='mse')"
   ]
  },
  {
   "cell_type": "code",
   "execution_count": null,
   "metadata": {},
   "outputs": [],
   "source": [
    "model.summary()\n",
    "\n",
    "history = model.fit(\n",
    "    x_train,\n",
    "    y_train,\n",
    "    validation_split=0.3,\n",
    "    epochs=50\n",
    ")"
   ]
  },
  {
   "cell_type": "markdown",
   "metadata": {},
   "source": [
    "# Prediction"
   ]
  },
  {
   "cell_type": "code",
   "execution_count": null,
   "metadata": {},
   "outputs": [],
   "source": [
    "from sklearn.metrics import r2_score\n",
    "import seaborn as sns\n",
    "\n",
    "y_prob = model.predict(x_test)\n",
    "\n",
    "# Function to print the y_predicted compared with the y_test\n",
    "def print_test_x_prediction(y_test, y_prob, df_date, train_size, window=0):\n",
    "    sns.lineplot(x=df_date.iloc[train_size + window:], y=y_test[:,0], label = 'Test')\n",
    "    sns.lineplot(x=df_date.iloc[train_size + window:], y=y_prob[:,0], label = 'Predict')\n",
    "\n",
    "print_test_x_prediction(y_test,y_prob,df['_time'], len(y_train), window=window)\n",
    "\n",
    "print(\"RScore \",r2_score(y_test, y_prob))"
   ]
  }
 ],
 "metadata": {
  "kernelspec": {
   "display_name": "ml",
   "language": "python",
   "name": "python3"
  },
  "language_info": {
   "codemirror_mode": {
    "name": "ipython",
    "version": 3
   },
   "file_extension": ".py",
   "mimetype": "text/x-python",
   "name": "python",
   "nbconvert_exporter": "python",
   "pygments_lexer": "ipython3",
   "version": "3.11.5"
  }
 },
 "nbformat": 4,
 "nbformat_minor": 2
}

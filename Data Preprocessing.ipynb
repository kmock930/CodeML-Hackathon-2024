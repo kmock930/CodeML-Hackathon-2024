{
 "cells": [
  {
   "cell_type": "markdown",
   "id": "24f55d3e",
   "metadata": {},
   "source": [
    "# Installing Dependencies"
   ]
  },
  {
   "cell_type": "code",
   "execution_count": 1,
   "id": "a0ebc4bd",
   "metadata": {},
   "outputs": [
    {
     "name": "stdout",
     "output_type": "stream",
     "text": [
      "Defaulting to user installation because normal site-packages is not writeable\n",
      "Requirement already satisfied: pandas in c:\\programdata\\anaconda3\\lib\\site-packages (1.4.2)\n",
      "Requirement already satisfied: python-dateutil>=2.8.1 in c:\\programdata\\anaconda3\\lib\\site-packages (from pandas) (2.8.2)\n",
      "Requirement already satisfied: numpy>=1.18.5 in c:\\users\\kelvi\\appdata\\roaming\\python\\python39\\site-packages (from pandas) (1.26.4)\n",
      "Requirement already satisfied: pytz>=2020.1 in c:\\programdata\\anaconda3\\lib\\site-packages (from pandas) (2021.3)\n",
      "Requirement already satisfied: six>=1.5 in c:\\programdata\\anaconda3\\lib\\site-packages (from python-dateutil>=2.8.1->pandas) (1.16.0)\n",
      "Defaulting to user installation because normal site-packages is not writeable\n",
      "Requirement already satisfied: numpy in c:\\users\\kelvi\\appdata\\roaming\\python\\python39\\site-packages (1.26.4)\n"
     ]
    }
   ],
   "source": [
    "!pip install pandas\n",
    "!pip install numpy"
   ]
  },
  {
   "cell_type": "code",
   "execution_count": 2,
   "id": "43653f94",
   "metadata": {},
   "outputs": [],
   "source": [
    "import pandas as pd;\n",
    "import numpy as np;\n",
    "import random;"
   ]
  },
  {
   "cell_type": "markdown",
   "id": "adb8f67a",
   "metadata": {},
   "source": [
    "# Loading the Data"
   ]
  },
  {
   "cell_type": "code",
   "execution_count": 3,
   "id": "6ae36751",
   "metadata": {},
   "outputs": [
    {
     "name": "stdout",
     "output_type": "stream",
     "text": [
      "Feature: _time\n",
      "Feature: agentID\n",
      "Feature: Altitude\n",
      "Feature: Latitude\n",
      "Feature: Longitude\n",
      "Feature: http_result\n",
      "Feature: icmp_result\n",
      "Feature: tcp_result\n",
      "Feature: udp_result\n"
     ]
    },
    {
     "data": {
      "text/html": [
       "<div>\n",
       "<style scoped>\n",
       "    .dataframe tbody tr th:only-of-type {\n",
       "        vertical-align: middle;\n",
       "    }\n",
       "\n",
       "    .dataframe tbody tr th {\n",
       "        vertical-align: top;\n",
       "    }\n",
       "\n",
       "    .dataframe thead th {\n",
       "        text-align: right;\n",
       "    }\n",
       "</style>\n",
       "<table border=\"1\" class=\"dataframe\">\n",
       "  <thead>\n",
       "    <tr style=\"text-align: right;\">\n",
       "      <th></th>\n",
       "      <th>_time</th>\n",
       "      <th>agentID</th>\n",
       "      <th>Altitude</th>\n",
       "      <th>Latitude</th>\n",
       "      <th>Longitude</th>\n",
       "      <th>http_result</th>\n",
       "      <th>icmp_result</th>\n",
       "      <th>tcp_result</th>\n",
       "      <th>udp_result</th>\n",
       "    </tr>\n",
       "  </thead>\n",
       "  <tbody>\n",
       "    <tr>\n",
       "      <th>0</th>\n",
       "      <td>2024-09-20 17:19:05+00:00</td>\n",
       "      <td>752813491.0</td>\n",
       "      <td>20.292809</td>\n",
       "      <td>45.496175</td>\n",
       "      <td>-73.561853</td>\n",
       "      <td>29.991</td>\n",
       "      <td>49.161</td>\n",
       "      <td>30.106</td>\n",
       "      <td>58.090</td>\n",
       "    </tr>\n",
       "    <tr>\n",
       "      <th>1</th>\n",
       "      <td>2024-09-20 17:19:03+00:00</td>\n",
       "      <td>752813491.0</td>\n",
       "      <td>20.292809</td>\n",
       "      <td>45.496175</td>\n",
       "      <td>-73.561853</td>\n",
       "      <td>29.955</td>\n",
       "      <td>59.476</td>\n",
       "      <td>30.031</td>\n",
       "      <td>69.706</td>\n",
       "    </tr>\n",
       "    <tr>\n",
       "      <th>2</th>\n",
       "      <td>2024-09-20 17:19:01+00:00</td>\n",
       "      <td>752813491.0</td>\n",
       "      <td>20.292809</td>\n",
       "      <td>45.496175</td>\n",
       "      <td>-73.561853</td>\n",
       "      <td>33.209</td>\n",
       "      <td>31.992</td>\n",
       "      <td>29.947</td>\n",
       "      <td>42.514</td>\n",
       "    </tr>\n",
       "    <tr>\n",
       "      <th>3</th>\n",
       "      <td>2024-09-20 17:18:59+00:00</td>\n",
       "      <td>752813491.0</td>\n",
       "      <td>20.292809</td>\n",
       "      <td>45.496175</td>\n",
       "      <td>-73.561853</td>\n",
       "      <td>30.057</td>\n",
       "      <td>64.112</td>\n",
       "      <td>30.036</td>\n",
       "      <td>74.137</td>\n",
       "    </tr>\n",
       "    <tr>\n",
       "      <th>4</th>\n",
       "      <td>2024-09-20 17:18:57+00:00</td>\n",
       "      <td>752813491.0</td>\n",
       "      <td>20.292809</td>\n",
       "      <td>45.496175</td>\n",
       "      <td>-73.561853</td>\n",
       "      <td>39.228</td>\n",
       "      <td>43.609</td>\n",
       "      <td>30.135</td>\n",
       "      <td>53.984</td>\n",
       "    </tr>\n",
       "    <tr>\n",
       "      <th>...</th>\n",
       "      <td>...</td>\n",
       "      <td>...</td>\n",
       "      <td>...</td>\n",
       "      <td>...</td>\n",
       "      <td>...</td>\n",
       "      <td>...</td>\n",
       "      <td>...</td>\n",
       "      <td>...</td>\n",
       "      <td>...</td>\n",
       "    </tr>\n",
       "    <tr>\n",
       "      <th>2593</th>\n",
       "      <td>NaN</td>\n",
       "      <td>NaN</td>\n",
       "      <td>NaN</td>\n",
       "      <td>NaN</td>\n",
       "      <td>NaN</td>\n",
       "      <td>NaN</td>\n",
       "      <td>NaN</td>\n",
       "      <td>NaN</td>\n",
       "      <td>NaN</td>\n",
       "    </tr>\n",
       "    <tr>\n",
       "      <th>2594</th>\n",
       "      <td>NaN</td>\n",
       "      <td>NaN</td>\n",
       "      <td>NaN</td>\n",
       "      <td>NaN</td>\n",
       "      <td>NaN</td>\n",
       "      <td>NaN</td>\n",
       "      <td>NaN</td>\n",
       "      <td>NaN</td>\n",
       "      <td>NaN</td>\n",
       "    </tr>\n",
       "    <tr>\n",
       "      <th>2595</th>\n",
       "      <td>NaN</td>\n",
       "      <td>NaN</td>\n",
       "      <td>NaN</td>\n",
       "      <td>NaN</td>\n",
       "      <td>NaN</td>\n",
       "      <td>NaN</td>\n",
       "      <td>NaN</td>\n",
       "      <td>NaN</td>\n",
       "      <td>NaN</td>\n",
       "    </tr>\n",
       "    <tr>\n",
       "      <th>2596</th>\n",
       "      <td>NaN</td>\n",
       "      <td>NaN</td>\n",
       "      <td>NaN</td>\n",
       "      <td>NaN</td>\n",
       "      <td>NaN</td>\n",
       "      <td>NaN</td>\n",
       "      <td>NaN</td>\n",
       "      <td>NaN</td>\n",
       "      <td>NaN</td>\n",
       "    </tr>\n",
       "    <tr>\n",
       "      <th>2597</th>\n",
       "      <td>NaN</td>\n",
       "      <td>NaN</td>\n",
       "      <td>NaN</td>\n",
       "      <td>NaN</td>\n",
       "      <td>NaN</td>\n",
       "      <td>NaN</td>\n",
       "      <td>NaN</td>\n",
       "      <td>NaN</td>\n",
       "      <td>NaN</td>\n",
       "    </tr>\n",
       "  </tbody>\n",
       "</table>\n",
       "<p>2598 rows × 9 columns</p>\n",
       "</div>"
      ],
      "text/plain": [
       "                          _time      agentID   Altitude   Latitude  Longitude  \\\n",
       "0     2024-09-20 17:19:05+00:00  752813491.0  20.292809  45.496175 -73.561853   \n",
       "1     2024-09-20 17:19:03+00:00  752813491.0  20.292809  45.496175 -73.561853   \n",
       "2     2024-09-20 17:19:01+00:00  752813491.0  20.292809  45.496175 -73.561853   \n",
       "3     2024-09-20 17:18:59+00:00  752813491.0  20.292809  45.496175 -73.561853   \n",
       "4     2024-09-20 17:18:57+00:00  752813491.0  20.292809  45.496175 -73.561853   \n",
       "...                         ...          ...        ...        ...        ...   \n",
       "2593                        NaN          NaN        NaN        NaN        NaN   \n",
       "2594                        NaN          NaN        NaN        NaN        NaN   \n",
       "2595                        NaN          NaN        NaN        NaN        NaN   \n",
       "2596                        NaN          NaN        NaN        NaN        NaN   \n",
       "2597                        NaN          NaN        NaN        NaN        NaN   \n",
       "\n",
       "      http_result  icmp_result  tcp_result  udp_result  \n",
       "0          29.991       49.161      30.106      58.090  \n",
       "1          29.955       59.476      30.031      69.706  \n",
       "2          33.209       31.992      29.947      42.514  \n",
       "3          30.057       64.112      30.036      74.137  \n",
       "4          39.228       43.609      30.135      53.984  \n",
       "...           ...          ...         ...         ...  \n",
       "2593          NaN          NaN         NaN         NaN  \n",
       "2594          NaN          NaN         NaN         NaN  \n",
       "2595          NaN          NaN         NaN         NaN  \n",
       "2596          NaN          NaN         NaN         NaN  \n",
       "2597          NaN          NaN         NaN         NaN  \n",
       "\n",
       "[2598 rows x 9 columns]"
      ]
     },
     "execution_count": 3,
     "metadata": {},
     "output_type": "execute_result"
    }
   ],
   "source": [
    "df_original = pd.read_csv('dataset/participant_data.csv');\n",
    "column_names = df_original.columns;\n",
    "for col in column_names: print(\"Feature: \" + col);\n",
    "df_original"
   ]
  },
  {
   "cell_type": "code",
   "execution_count": 5,
   "id": "cb8b1c42",
   "metadata": {},
   "outputs": [
    {
     "name": "stdout",
     "output_type": "stream",
     "text": [
      "Type of Array with original data: <class 'numpy.ndarray'>\n",
      "Type of a record in the original data: <class 'numpy.ndarray'>\n",
      "Number of records in the original dataset: 2598\n",
      "Number of features in a record: 9\n",
      "Dimensionality of a record: 1\n",
      "Dimensionality of the entire data array: 2\n",
      "Shape of the Array: (2598, 9)\n",
      "Shape of a record: (9,)\n"
     ]
    }
   ],
   "source": [
    "origData = df_original.to_numpy();\n",
    "randSample = origData[random.randint(0,len(origData)-1)]; # for inspection\n",
    "\n",
    "print(\"Type of Array with original data: \" + str(type(origData)));\n",
    "print(\"Type of a record in the original data: \" + str(type(randSample)));\n",
    "print(\"Number of records in the original dataset: \" + str(len(origData)));\n",
    "print(\"Number of features in a record: \" + str(randSample.size));\n",
    "print(\"Dimensionality of a record: \" + str(randSample.ndim));\n",
    "print(\"Dimensionality of the entire data array: \" + str(origData.ndim));\n",
    "print(\"Shape of the Array: \" + str(origData.shape));\n",
    "print(\"Shape of a record: \" + str(randSample.shape));"
   ]
  },
  {
   "cell_type": "markdown",
   "id": "ecf94e2a",
   "metadata": {},
   "source": [
    "We saw NaN values in the table. That is because of empty cells in the table. To prove our intuition, let's inspect whether there are NaN in specific columns."
   ]
  },
  {
   "cell_type": "code",
   "execution_count": 6,
   "id": "d33245c6",
   "metadata": {},
   "outputs": [
    {
     "data": {
      "text/plain": [
       "_time          True\n",
       "agentID        True\n",
       "Altitude       True\n",
       "Latitude       True\n",
       "Longitude      True\n",
       "http_result    True\n",
       "icmp_result    True\n",
       "tcp_result     True\n",
       "udp_result     True\n",
       "dtype: bool"
      ]
     },
     "execution_count": 6,
     "metadata": {},
     "output_type": "execute_result"
    }
   ],
   "source": [
    "df_original.isna().any()"
   ]
  },
  {
   "cell_type": "markdown",
   "id": "3762741b",
   "metadata": {},
   "source": [
    "# Data Cleansing"
   ]
  },
  {
   "cell_type": "markdown",
   "id": "6a6c39f6",
   "metadata": {},
   "source": [
    "Delete empty rows"
   ]
  },
  {
   "cell_type": "code",
   "execution_count": 7,
   "id": "202253d7",
   "metadata": {},
   "outputs": [],
   "source": [
    "# delete empty rows which has empty timestamp (we assume this is the primary key of a record)\n",
    "df_noEmptyRows = df_original.dropna(subset=['_time'])"
   ]
  },
  {
   "cell_type": "markdown",
   "id": "96bec00b",
   "metadata": {},
   "source": [
    "Check if there're empty rows now"
   ]
  },
  {
   "cell_type": "code",
   "execution_count": 8,
   "id": "18ef486f",
   "metadata": {},
   "outputs": [
    {
     "data": {
      "text/plain": [
       "0       False\n",
       "1       False\n",
       "2       False\n",
       "3       False\n",
       "4       False\n",
       "        ...  \n",
       "1930    False\n",
       "1931    False\n",
       "1932    False\n",
       "1933    False\n",
       "1934    False\n",
       "Name: _time, Length: 1935, dtype: bool"
      ]
     },
     "execution_count": 8,
     "metadata": {},
     "output_type": "execute_result"
    }
   ],
   "source": [
    "df_noEmptyRows['_time'].isnull()"
   ]
  },
  {
   "cell_type": "markdown",
   "id": "bdd4fdf9",
   "metadata": {},
   "source": [
    "Check if there're still NaN / Empty cells"
   ]
  },
  {
   "cell_type": "code",
   "execution_count": 11,
   "id": "bd38d9b1",
   "metadata": {},
   "outputs": [
    {
     "data": {
      "text/plain": [
       "_time          False\n",
       "agentID        False\n",
       "Altitude        True\n",
       "Latitude       False\n",
       "Longitude      False\n",
       "http_result     True\n",
       "icmp_result     True\n",
       "tcp_result      True\n",
       "udp_result      True\n",
       "dtype: bool"
      ]
     },
     "execution_count": 11,
     "metadata": {},
     "output_type": "execute_result"
    }
   ],
   "source": [
    "df_noEmptyRows.isna().any()"
   ]
  },
  {
   "cell_type": "markdown",
   "id": "9d6af480",
   "metadata": {},
   "source": [
    "## Approach 1: Replace NaN values (from empty numeric cells) with the mean of the column"
   ]
  },
  {
   "cell_type": "markdown",
   "id": "b800c42b",
   "metadata": {},
   "source": [
    "We need to replace all the NaN values with the mean of the data."
   ]
  },
  {
   "cell_type": "code",
   "execution_count": 12,
   "id": "635feeb4",
   "metadata": {},
   "outputs": [
    {
     "data": {
      "text/plain": [
       "agentID        7.528135e+08\n",
       "Altitude       2.283825e+01\n",
       "Latitude       4.549289e+01\n",
       "Longitude     -7.356152e+01\n",
       "http_result    4.478491e+01\n",
       "icmp_result    1.677274e+03\n",
       "tcp_result     4.244834e+01\n",
       "udp_result     1.278443e+03\n",
       "dtype: float64"
      ]
     },
     "execution_count": 12,
     "metadata": {},
     "output_type": "execute_result"
    }
   ],
   "source": [
    "# obtain the mean from numeric columns only\n",
    "means = df_noEmptyRows.mean(numeric_only=True);\n",
    "means"
   ]
  },
  {
   "cell_type": "code",
   "execution_count": 13,
   "id": "96ef9310",
   "metadata": {},
   "outputs": [
    {
     "data": {
      "text/html": [
       "<div>\n",
       "<style scoped>\n",
       "    .dataframe tbody tr th:only-of-type {\n",
       "        vertical-align: middle;\n",
       "    }\n",
       "\n",
       "    .dataframe tbody tr th {\n",
       "        vertical-align: top;\n",
       "    }\n",
       "\n",
       "    .dataframe thead th {\n",
       "        text-align: right;\n",
       "    }\n",
       "</style>\n",
       "<table border=\"1\" class=\"dataframe\">\n",
       "  <thead>\n",
       "    <tr style=\"text-align: right;\">\n",
       "      <th></th>\n",
       "      <th>_time</th>\n",
       "      <th>agentID</th>\n",
       "      <th>Altitude</th>\n",
       "      <th>Latitude</th>\n",
       "      <th>Longitude</th>\n",
       "      <th>http_result</th>\n",
       "      <th>icmp_result</th>\n",
       "      <th>tcp_result</th>\n",
       "      <th>udp_result</th>\n",
       "    </tr>\n",
       "  </thead>\n",
       "  <tbody>\n",
       "    <tr>\n",
       "      <th>1</th>\n",
       "      <td>2024-09-20 17:19:03+00:00</td>\n",
       "      <td>752813491.0</td>\n",
       "      <td>20.292809</td>\n",
       "      <td>45.496175</td>\n",
       "      <td>-73.561853</td>\n",
       "      <td>29.955</td>\n",
       "      <td>59.476</td>\n",
       "      <td>30.031</td>\n",
       "      <td>69.706</td>\n",
       "    </tr>\n",
       "    <tr>\n",
       "      <th>2</th>\n",
       "      <td>2024-09-20 17:19:01+00:00</td>\n",
       "      <td>752813491.0</td>\n",
       "      <td>20.292809</td>\n",
       "      <td>45.496175</td>\n",
       "      <td>-73.561853</td>\n",
       "      <td>33.209</td>\n",
       "      <td>31.992</td>\n",
       "      <td>29.947</td>\n",
       "      <td>42.514</td>\n",
       "    </tr>\n",
       "    <tr>\n",
       "      <th>3</th>\n",
       "      <td>2024-09-20 17:18:59+00:00</td>\n",
       "      <td>752813491.0</td>\n",
       "      <td>20.292809</td>\n",
       "      <td>45.496175</td>\n",
       "      <td>-73.561853</td>\n",
       "      <td>30.057</td>\n",
       "      <td>64.112</td>\n",
       "      <td>30.036</td>\n",
       "      <td>74.137</td>\n",
       "    </tr>\n",
       "    <tr>\n",
       "      <th>4</th>\n",
       "      <td>2024-09-20 17:18:57+00:00</td>\n",
       "      <td>752813491.0</td>\n",
       "      <td>20.292809</td>\n",
       "      <td>45.496175</td>\n",
       "      <td>-73.561853</td>\n",
       "      <td>39.228</td>\n",
       "      <td>43.609</td>\n",
       "      <td>30.135</td>\n",
       "      <td>53.984</td>\n",
       "    </tr>\n",
       "    <tr>\n",
       "      <th>5</th>\n",
       "      <td>2024-09-20 17:18:55+00:00</td>\n",
       "      <td>752813491.0</td>\n",
       "      <td>20.292809</td>\n",
       "      <td>45.496175</td>\n",
       "      <td>-73.561853</td>\n",
       "      <td>34.133</td>\n",
       "      <td>35.945</td>\n",
       "      <td>30.996</td>\n",
       "      <td>44.054</td>\n",
       "    </tr>\n",
       "    <tr>\n",
       "      <th>...</th>\n",
       "      <td>...</td>\n",
       "      <td>...</td>\n",
       "      <td>...</td>\n",
       "      <td>...</td>\n",
       "      <td>...</td>\n",
       "      <td>...</td>\n",
       "      <td>...</td>\n",
       "      <td>...</td>\n",
       "      <td>...</td>\n",
       "    </tr>\n",
       "    <tr>\n",
       "      <th>1930</th>\n",
       "      <td>2024-09-16 17:13:27+00:00</td>\n",
       "      <td>752813491.0</td>\n",
       "      <td>18.823519</td>\n",
       "      <td>45.496026</td>\n",
       "      <td>-73.561997</td>\n",
       "      <td>12.473</td>\n",
       "      <td>11.588</td>\n",
       "      <td>12.961</td>\n",
       "      <td>14.024</td>\n",
       "    </tr>\n",
       "    <tr>\n",
       "      <th>1931</th>\n",
       "      <td>2024-09-16 17:13:25+00:00</td>\n",
       "      <td>752813491.0</td>\n",
       "      <td>18.823519</td>\n",
       "      <td>45.496026</td>\n",
       "      <td>-73.561997</td>\n",
       "      <td>22.238</td>\n",
       "      <td>12.144</td>\n",
       "      <td>12.141</td>\n",
       "      <td>20.624</td>\n",
       "    </tr>\n",
       "    <tr>\n",
       "      <th>1932</th>\n",
       "      <td>2024-09-16 17:13:23+00:00</td>\n",
       "      <td>752813491.0</td>\n",
       "      <td>18.823519</td>\n",
       "      <td>45.496026</td>\n",
       "      <td>-73.561997</td>\n",
       "      <td>14.019</td>\n",
       "      <td>17.161</td>\n",
       "      <td>14.217</td>\n",
       "      <td>24.523</td>\n",
       "    </tr>\n",
       "    <tr>\n",
       "      <th>1933</th>\n",
       "      <td>2024-09-16 17:13:21+00:00</td>\n",
       "      <td>752813491.0</td>\n",
       "      <td>18.823519</td>\n",
       "      <td>45.496026</td>\n",
       "      <td>-73.561997</td>\n",
       "      <td>11.645</td>\n",
       "      <td>12.584</td>\n",
       "      <td>13.018</td>\n",
       "      <td>17.155</td>\n",
       "    </tr>\n",
       "    <tr>\n",
       "      <th>1934</th>\n",
       "      <td>2024-09-16 17:13:19+00:00</td>\n",
       "      <td>752813491.0</td>\n",
       "      <td>18.823519</td>\n",
       "      <td>45.496026</td>\n",
       "      <td>-73.561997</td>\n",
       "      <td>13.619</td>\n",
       "      <td>21.588</td>\n",
       "      <td>13.488</td>\n",
       "      <td>21.570</td>\n",
       "    </tr>\n",
       "  </tbody>\n",
       "</table>\n",
       "<p>1934 rows × 9 columns</p>\n",
       "</div>"
      ],
      "text/plain": [
       "                          _time      agentID   Altitude   Latitude  Longitude  \\\n",
       "1     2024-09-20 17:19:03+00:00  752813491.0  20.292809  45.496175 -73.561853   \n",
       "2     2024-09-20 17:19:01+00:00  752813491.0  20.292809  45.496175 -73.561853   \n",
       "3     2024-09-20 17:18:59+00:00  752813491.0  20.292809  45.496175 -73.561853   \n",
       "4     2024-09-20 17:18:57+00:00  752813491.0  20.292809  45.496175 -73.561853   \n",
       "5     2024-09-20 17:18:55+00:00  752813491.0  20.292809  45.496175 -73.561853   \n",
       "...                         ...          ...        ...        ...        ...   \n",
       "1930  2024-09-16 17:13:27+00:00  752813491.0  18.823519  45.496026 -73.561997   \n",
       "1931  2024-09-16 17:13:25+00:00  752813491.0  18.823519  45.496026 -73.561997   \n",
       "1932  2024-09-16 17:13:23+00:00  752813491.0  18.823519  45.496026 -73.561997   \n",
       "1933  2024-09-16 17:13:21+00:00  752813491.0  18.823519  45.496026 -73.561997   \n",
       "1934  2024-09-16 17:13:19+00:00  752813491.0  18.823519  45.496026 -73.561997   \n",
       "\n",
       "      http_result  icmp_result  tcp_result  udp_result  \n",
       "1          29.955       59.476      30.031      69.706  \n",
       "2          33.209       31.992      29.947      42.514  \n",
       "3          30.057       64.112      30.036      74.137  \n",
       "4          39.228       43.609      30.135      53.984  \n",
       "5          34.133       35.945      30.996      44.054  \n",
       "...           ...          ...         ...         ...  \n",
       "1930       12.473       11.588      12.961      14.024  \n",
       "1931       22.238       12.144      12.141      20.624  \n",
       "1932       14.019       17.161      14.217      24.523  \n",
       "1933       11.645       12.584      13.018      17.155  \n",
       "1934       13.619       21.588      13.488      21.570  \n",
       "\n",
       "[1934 rows x 9 columns]"
      ]
     },
     "execution_count": 13,
     "metadata": {},
     "output_type": "execute_result"
    }
   ],
   "source": [
    "df_cleaned_mean = df_noEmptyRows[1:].fillna(means)\n",
    "df_cleaned_mean"
   ]
  },
  {
   "cell_type": "markdown",
   "id": "b6639e5d",
   "metadata": {},
   "source": [
    "Check if there're still NaN / Empty cells"
   ]
  },
  {
   "cell_type": "code",
   "execution_count": 14,
   "id": "03002e09",
   "metadata": {},
   "outputs": [
    {
     "data": {
      "text/plain": [
       "_time          False\n",
       "agentID        False\n",
       "Altitude       False\n",
       "Latitude       False\n",
       "Longitude      False\n",
       "http_result    False\n",
       "icmp_result    False\n",
       "tcp_result     False\n",
       "udp_result     False\n",
       "dtype: bool"
      ]
     },
     "execution_count": 14,
     "metadata": {},
     "output_type": "execute_result"
    }
   ],
   "source": [
    "df_cleaned_mean.isna().any()"
   ]
  },
  {
   "cell_type": "markdown",
   "id": "4d496984",
   "metadata": {},
   "source": [
    "Make sure the data fields remain unchanged"
   ]
  },
  {
   "cell_type": "code",
   "execution_count": 15,
   "id": "985b6b1a",
   "metadata": {},
   "outputs": [
    {
     "name": "stdout",
     "output_type": "stream",
     "text": [
      "Type of Array with original data: <class 'numpy.ndarray'>\n",
      "Type of a record in the original data: <class 'numpy.ndarray'>\n",
      "Number of records in the original dataset: 1934\n",
      "Number of features in a record: 9\n",
      "Dimensionality of a record: 1\n",
      "Dimensionality of the entire data array: 2\n",
      "Shape of the Array: (1934, 9)\n",
      "Shape of a record: (9,)\n"
     ]
    }
   ],
   "source": [
    "cleanedData = df_cleaned_mean.to_numpy();\n",
    "randSample = cleanedData[random.randint(0,len(cleanedData)-1)]; # for inspection\n",
    "\n",
    "print(\"Type of Array with original data: \" + str(type(cleanedData)));\n",
    "print(\"Type of a record in the original data: \" + str(type(randSample)));\n",
    "print(\"Number of records in the original dataset: \" + str(len(cleanedData)));\n",
    "print(\"Number of features in a record: \" + str(randSample.size));\n",
    "print(\"Dimensionality of a record: \" + str(randSample.ndim));\n",
    "print(\"Dimensionality of the entire data array: \" + str(cleanedData.ndim));\n",
    "print(\"Shape of the Array: \" + str(cleanedData.shape));\n",
    "print(\"Shape of a record: \" + str(randSample.shape));"
   ]
  },
  {
   "cell_type": "markdown",
   "id": "992bf853",
   "metadata": {},
   "source": [
    "Exporting the cleaned data to CSV"
   ]
  },
  {
   "cell_type": "code",
   "execution_count": 16,
   "id": "935c3851",
   "metadata": {},
   "outputs": [],
   "source": [
    "df_cleaned_mean.to_csv('dataset/participant_data_cleaned_mean.csv');"
   ]
  },
  {
   "cell_type": "markdown",
   "id": "a64f14f6",
   "metadata": {},
   "source": [
    "## Approach 2: Replace NaN values (from empty numeric cells) with the median of the column"
   ]
  },
  {
   "cell_type": "markdown",
   "id": "ef973b2f",
   "metadata": {},
   "source": [
    "We need to replace all the NaN values with the mean of the data."
   ]
  },
  {
   "cell_type": "code",
   "execution_count": 17,
   "id": "3f5fec60",
   "metadata": {},
   "outputs": [
    {
     "data": {
      "text/plain": [
       "agentID        7.528135e+08\n",
       "Altitude       1.973038e+01\n",
       "Latitude       4.549392e+01\n",
       "Longitude     -7.356011e+01\n",
       "http_result    3.087150e+01\n",
       "icmp_result    4.773400e+01\n",
       "tcp_result     3.008900e+01\n",
       "udp_result     5.215500e+01\n",
       "dtype: float64"
      ]
     },
     "execution_count": 17,
     "metadata": {},
     "output_type": "execute_result"
    }
   ],
   "source": [
    "# obtain the mean from numeric columns only\n",
    "medians = df_noEmptyRows.median(numeric_only=True);\n",
    "medians"
   ]
  },
  {
   "cell_type": "code",
   "execution_count": 18,
   "id": "c9cf4a67",
   "metadata": {},
   "outputs": [
    {
     "data": {
      "text/html": [
       "<div>\n",
       "<style scoped>\n",
       "    .dataframe tbody tr th:only-of-type {\n",
       "        vertical-align: middle;\n",
       "    }\n",
       "\n",
       "    .dataframe tbody tr th {\n",
       "        vertical-align: top;\n",
       "    }\n",
       "\n",
       "    .dataframe thead th {\n",
       "        text-align: right;\n",
       "    }\n",
       "</style>\n",
       "<table border=\"1\" class=\"dataframe\">\n",
       "  <thead>\n",
       "    <tr style=\"text-align: right;\">\n",
       "      <th></th>\n",
       "      <th>_time</th>\n",
       "      <th>agentID</th>\n",
       "      <th>Altitude</th>\n",
       "      <th>Latitude</th>\n",
       "      <th>Longitude</th>\n",
       "      <th>http_result</th>\n",
       "      <th>icmp_result</th>\n",
       "      <th>tcp_result</th>\n",
       "      <th>udp_result</th>\n",
       "    </tr>\n",
       "  </thead>\n",
       "  <tbody>\n",
       "    <tr>\n",
       "      <th>1</th>\n",
       "      <td>2024-09-20 17:19:03+00:00</td>\n",
       "      <td>752813491.0</td>\n",
       "      <td>20.292809</td>\n",
       "      <td>45.496175</td>\n",
       "      <td>-73.561853</td>\n",
       "      <td>29.955</td>\n",
       "      <td>59.476</td>\n",
       "      <td>30.031</td>\n",
       "      <td>69.706</td>\n",
       "    </tr>\n",
       "    <tr>\n",
       "      <th>2</th>\n",
       "      <td>2024-09-20 17:19:01+00:00</td>\n",
       "      <td>752813491.0</td>\n",
       "      <td>20.292809</td>\n",
       "      <td>45.496175</td>\n",
       "      <td>-73.561853</td>\n",
       "      <td>33.209</td>\n",
       "      <td>31.992</td>\n",
       "      <td>29.947</td>\n",
       "      <td>42.514</td>\n",
       "    </tr>\n",
       "    <tr>\n",
       "      <th>3</th>\n",
       "      <td>2024-09-20 17:18:59+00:00</td>\n",
       "      <td>752813491.0</td>\n",
       "      <td>20.292809</td>\n",
       "      <td>45.496175</td>\n",
       "      <td>-73.561853</td>\n",
       "      <td>30.057</td>\n",
       "      <td>64.112</td>\n",
       "      <td>30.036</td>\n",
       "      <td>74.137</td>\n",
       "    </tr>\n",
       "    <tr>\n",
       "      <th>4</th>\n",
       "      <td>2024-09-20 17:18:57+00:00</td>\n",
       "      <td>752813491.0</td>\n",
       "      <td>20.292809</td>\n",
       "      <td>45.496175</td>\n",
       "      <td>-73.561853</td>\n",
       "      <td>39.228</td>\n",
       "      <td>43.609</td>\n",
       "      <td>30.135</td>\n",
       "      <td>53.984</td>\n",
       "    </tr>\n",
       "    <tr>\n",
       "      <th>5</th>\n",
       "      <td>2024-09-20 17:18:55+00:00</td>\n",
       "      <td>752813491.0</td>\n",
       "      <td>20.292809</td>\n",
       "      <td>45.496175</td>\n",
       "      <td>-73.561853</td>\n",
       "      <td>34.133</td>\n",
       "      <td>35.945</td>\n",
       "      <td>30.996</td>\n",
       "      <td>44.054</td>\n",
       "    </tr>\n",
       "    <tr>\n",
       "      <th>...</th>\n",
       "      <td>...</td>\n",
       "      <td>...</td>\n",
       "      <td>...</td>\n",
       "      <td>...</td>\n",
       "      <td>...</td>\n",
       "      <td>...</td>\n",
       "      <td>...</td>\n",
       "      <td>...</td>\n",
       "      <td>...</td>\n",
       "    </tr>\n",
       "    <tr>\n",
       "      <th>1930</th>\n",
       "      <td>2024-09-16 17:13:27+00:00</td>\n",
       "      <td>752813491.0</td>\n",
       "      <td>18.823519</td>\n",
       "      <td>45.496026</td>\n",
       "      <td>-73.561997</td>\n",
       "      <td>12.473</td>\n",
       "      <td>11.588</td>\n",
       "      <td>12.961</td>\n",
       "      <td>14.024</td>\n",
       "    </tr>\n",
       "    <tr>\n",
       "      <th>1931</th>\n",
       "      <td>2024-09-16 17:13:25+00:00</td>\n",
       "      <td>752813491.0</td>\n",
       "      <td>18.823519</td>\n",
       "      <td>45.496026</td>\n",
       "      <td>-73.561997</td>\n",
       "      <td>22.238</td>\n",
       "      <td>12.144</td>\n",
       "      <td>12.141</td>\n",
       "      <td>20.624</td>\n",
       "    </tr>\n",
       "    <tr>\n",
       "      <th>1932</th>\n",
       "      <td>2024-09-16 17:13:23+00:00</td>\n",
       "      <td>752813491.0</td>\n",
       "      <td>18.823519</td>\n",
       "      <td>45.496026</td>\n",
       "      <td>-73.561997</td>\n",
       "      <td>14.019</td>\n",
       "      <td>17.161</td>\n",
       "      <td>14.217</td>\n",
       "      <td>24.523</td>\n",
       "    </tr>\n",
       "    <tr>\n",
       "      <th>1933</th>\n",
       "      <td>2024-09-16 17:13:21+00:00</td>\n",
       "      <td>752813491.0</td>\n",
       "      <td>18.823519</td>\n",
       "      <td>45.496026</td>\n",
       "      <td>-73.561997</td>\n",
       "      <td>11.645</td>\n",
       "      <td>12.584</td>\n",
       "      <td>13.018</td>\n",
       "      <td>17.155</td>\n",
       "    </tr>\n",
       "    <tr>\n",
       "      <th>1934</th>\n",
       "      <td>2024-09-16 17:13:19+00:00</td>\n",
       "      <td>752813491.0</td>\n",
       "      <td>18.823519</td>\n",
       "      <td>45.496026</td>\n",
       "      <td>-73.561997</td>\n",
       "      <td>13.619</td>\n",
       "      <td>21.588</td>\n",
       "      <td>13.488</td>\n",
       "      <td>21.570</td>\n",
       "    </tr>\n",
       "  </tbody>\n",
       "</table>\n",
       "<p>1934 rows × 9 columns</p>\n",
       "</div>"
      ],
      "text/plain": [
       "                          _time      agentID   Altitude   Latitude  Longitude  \\\n",
       "1     2024-09-20 17:19:03+00:00  752813491.0  20.292809  45.496175 -73.561853   \n",
       "2     2024-09-20 17:19:01+00:00  752813491.0  20.292809  45.496175 -73.561853   \n",
       "3     2024-09-20 17:18:59+00:00  752813491.0  20.292809  45.496175 -73.561853   \n",
       "4     2024-09-20 17:18:57+00:00  752813491.0  20.292809  45.496175 -73.561853   \n",
       "5     2024-09-20 17:18:55+00:00  752813491.0  20.292809  45.496175 -73.561853   \n",
       "...                         ...          ...        ...        ...        ...   \n",
       "1930  2024-09-16 17:13:27+00:00  752813491.0  18.823519  45.496026 -73.561997   \n",
       "1931  2024-09-16 17:13:25+00:00  752813491.0  18.823519  45.496026 -73.561997   \n",
       "1932  2024-09-16 17:13:23+00:00  752813491.0  18.823519  45.496026 -73.561997   \n",
       "1933  2024-09-16 17:13:21+00:00  752813491.0  18.823519  45.496026 -73.561997   \n",
       "1934  2024-09-16 17:13:19+00:00  752813491.0  18.823519  45.496026 -73.561997   \n",
       "\n",
       "      http_result  icmp_result  tcp_result  udp_result  \n",
       "1          29.955       59.476      30.031      69.706  \n",
       "2          33.209       31.992      29.947      42.514  \n",
       "3          30.057       64.112      30.036      74.137  \n",
       "4          39.228       43.609      30.135      53.984  \n",
       "5          34.133       35.945      30.996      44.054  \n",
       "...           ...          ...         ...         ...  \n",
       "1930       12.473       11.588      12.961      14.024  \n",
       "1931       22.238       12.144      12.141      20.624  \n",
       "1932       14.019       17.161      14.217      24.523  \n",
       "1933       11.645       12.584      13.018      17.155  \n",
       "1934       13.619       21.588      13.488      21.570  \n",
       "\n",
       "[1934 rows x 9 columns]"
      ]
     },
     "execution_count": 18,
     "metadata": {},
     "output_type": "execute_result"
    }
   ],
   "source": [
    "df_cleaned_median = df_noEmptyRows[1:].fillna(medians)\n",
    "df_cleaned_median"
   ]
  },
  {
   "cell_type": "markdown",
   "id": "c9c7567f",
   "metadata": {},
   "source": [
    "Check if there're still NaN / Empty cells"
   ]
  },
  {
   "cell_type": "code",
   "execution_count": 19,
   "id": "dd69dc97",
   "metadata": {},
   "outputs": [
    {
     "data": {
      "text/plain": [
       "_time          False\n",
       "agentID        False\n",
       "Altitude       False\n",
       "Latitude       False\n",
       "Longitude      False\n",
       "http_result    False\n",
       "icmp_result    False\n",
       "tcp_result     False\n",
       "udp_result     False\n",
       "dtype: bool"
      ]
     },
     "execution_count": 19,
     "metadata": {},
     "output_type": "execute_result"
    }
   ],
   "source": [
    "df_cleaned_median.isna().any()"
   ]
  },
  {
   "cell_type": "markdown",
   "id": "eca80bda",
   "metadata": {},
   "source": [
    "Make sure the data fields remain unchanged"
   ]
  },
  {
   "cell_type": "code",
   "execution_count": 21,
   "id": "89b49036",
   "metadata": {},
   "outputs": [
    {
     "name": "stdout",
     "output_type": "stream",
     "text": [
      "Type of Array with original data: <class 'numpy.ndarray'>\n",
      "Type of a record in the original data: <class 'numpy.ndarray'>\n",
      "Number of records in the original dataset: 1934\n",
      "Number of features in a record: 9\n",
      "Dimensionality of a record: 1\n",
      "Dimensionality of the entire data array: 2\n",
      "Shape of the Array: (1934, 9)\n",
      "Shape of a record: (9,)\n"
     ]
    }
   ],
   "source": [
    "cleanedData = df_cleaned_median.to_numpy();\n",
    "randSample = cleanedData[random.randint(0,len(cleanedData)-1)]; # for inspection\n",
    "\n",
    "print(\"Type of Array with original data: \" + str(type(cleanedData)));\n",
    "print(\"Type of a record in the original data: \" + str(type(randSample)));\n",
    "print(\"Number of records in the original dataset: \" + str(len(cleanedData)));\n",
    "print(\"Number of features in a record: \" + str(randSample.size));\n",
    "print(\"Dimensionality of a record: \" + str(randSample.ndim));\n",
    "print(\"Dimensionality of the entire data array: \" + str(cleanedData.ndim));\n",
    "print(\"Shape of the Array: \" + str(cleanedData.shape));\n",
    "print(\"Shape of a record: \" + str(randSample.shape));"
   ]
  },
  {
   "cell_type": "markdown",
   "id": "66c6e7ef",
   "metadata": {},
   "source": [
    "Exporting the cleaned data to CSV"
   ]
  },
  {
   "cell_type": "code",
   "execution_count": 22,
   "id": "8397bc5f",
   "metadata": {},
   "outputs": [],
   "source": [
    "df_cleaned_median.to_csv('dataset/participant_data_cleaned_median.csv');"
   ]
  },
  {
   "cell_type": "code",
   "execution_count": null,
   "id": "5b3fc82e",
   "metadata": {},
   "outputs": [],
   "source": []
  }
 ],
 "metadata": {
  "kernelspec": {
   "display_name": "Python 3 (ipykernel)",
   "language": "python",
   "name": "python3"
  },
  "language_info": {
   "codemirror_mode": {
    "name": "ipython",
    "version": 3
   },
   "file_extension": ".py",
   "mimetype": "text/x-python",
   "name": "python",
   "nbconvert_exporter": "python",
   "pygments_lexer": "ipython3",
   "version": "3.9.12"
  }
 },
 "nbformat": 4,
 "nbformat_minor": 5
}
